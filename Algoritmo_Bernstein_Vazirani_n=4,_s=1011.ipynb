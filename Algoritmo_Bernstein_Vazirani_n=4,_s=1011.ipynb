{
  "cells": [
    {
      "cell_type": "code",
      "execution_count": null,
      "metadata": {
        "id": "A0-DobrqJaxO"
      },
      "outputs": [],
      "source": [
        "%%capture\n",
        "!pip install qiskit qiskit_ibm_runtime python-dotenv"
      ]
    },
    {
      "cell_type": "code",
      "execution_count": null,
      "metadata": {
        "id": "ztnr2IG3Jncm"
      },
      "outputs": [],
      "source": [
        "import matplotlib.pyplot as plt\n",
        "from numpy import pi\n",
        "import numpy as np\n",
        "\n",
        "from qiskit import QuantumCircuit, transpile, ClassicalRegister, QuantumRegister\n",
        "from qiskit_ibm_runtime import QiskitRuntimeService, SamplerV2 as Sampler, Session\n",
        "import os\n",
        "from dotenv import load_dotenv\n",
        "\n",
        "# Carrega as variáveis de ambiente do arquivo .env\n",
        "load_dotenv()"
      ]
    },
    {
      "cell_type": "code",
      "execution_count": null,
      "metadata": {
        "colab": {
          "base_uri": "https://localhost:8080/"
        },
        "id": "1HG5FxZeJprZ",
        "outputId": "af4a9a17-e1f1-4c0a-cd9f-25037da99efa"
      },
      "outputs": [],
      "source": [
        "import os\n",
        "from qiskit_ibm_runtime import QiskitRuntimeService\n",
        "\n",
        "token = os.getenv('IBM_QUANTUM_TOKEN')\n",
        "if not token:\n",
        "    raise ValueError(\"Token da IBM Quantum não encontrado. Adicione IBM_QUANTUM_TOKEN ao seu arquivo .env\")\n",
        "\n",
        "service = QiskitRuntimeService(channel=\"ibm_quantum\", token=token)\n",
        "backend = service.least_busy(operational=True, simulator=False)\n",
        "if backend is None:\n",
        "  raise ValueError(\"Nenhum backend disponível. Verifique sua conexão com a IBM Quantum.\")\n",
        "else:\n",
        "  print(\"backend selecionado:\", backend)"
      ]
    },
    {
      "cell_type": "code",
      "execution_count": null,
      "metadata": {
        "colab": {
          "base_uri": "https://localhost:8080/"
        },
        "id": "xFNdg9ALJ2O8",
        "outputId": "0ea00b5c-2e47-4f6f-89f7-eb78b4f4fac2"
      },
      "outputs": [],
      "source": [
        "qreg_q = QuantumRegister(5, 'q')\n",
        "creg_c = ClassicalRegister(4, 'c')\n",
        "circuit = QuantumCircuit(qreg_q, creg_c)\n",
        "\n",
        "circuit.x(qreg_q[4])\n",
        "circuit.cx(qreg_q[4], qreg_q[0])\n",
        "circuit.cx(qreg_q[4], qreg_q[2])\n",
        "circuit.cx(qreg_q[4], qreg_q[3])\n",
        "circuit.measure(qreg_q[0], creg_c[0])\n",
        "circuit.measure(qreg_q[1], creg_c[1])\n",
        "circuit.measure(qreg_q[2], creg_c[2])\n",
        "circuit.measure(qreg_q[3], creg_c[3])"
      ]
    },
    {
      "cell_type": "code",
      "execution_count": null,
      "metadata": {
        "id": "3N4NvDemJw4k"
      },
      "outputs": [],
      "source": [
        "transpiled_circuit = transpile(circuit, backend=backend, optimization_level=3)\n",
        "transpiled_params = transpiled_circuit.parameters\n",
        "param_values = {param: np.random.rand() for param in transpiled_params}\n",
        "\n",
        "with Session(backend=backend) as session:\n",
        "  sampler_qr = Sampler()\n",
        "  job = sampler_qr.run([(transpiled_circuit, param_values)])\n",
        "  result = job.result()"
      ]
    },
    {
      "cell_type": "code",
      "execution_count": null,
      "metadata": {
        "colab": {
          "base_uri": "https://localhost:8080/"
        },
        "id": "iNqML9UlaGOQ",
        "outputId": "4a38180a-8152-40c2-f0b4-b5cedd9febef"
      },
      "outputs": [],
      "source": [
        "print(transpiled_circuit)"
      ]
    },
    {
      "cell_type": "code",
      "execution_count": null,
      "metadata": {
        "colab": {
          "base_uri": "https://localhost:8080/",
          "height": 622
        },
        "id": "x9UW5clTMOoa",
        "outputId": "658b9f7d-00f9-41c1-c940-236feda797a1"
      },
      "outputs": [],
      "source": [
        "counts = job.result()[0].data.c.get_counts()\n",
        "\n",
        "# Ordenar os estados pela frequência\n",
        "sorted_counts = dict(sorted(counts.items(), key=lambda item: item[1], reverse=True))\n",
        "\n",
        "\n",
        "# Plotar o gráfico de barras\n",
        "plt.figure(figsize=(12,6))\n",
        "plt.bar(sorted_counts.keys(), sorted_counts.values(), color='blue')\n",
        "plt.xlabel(\"Estados Binários\")\n",
        "plt.ylabel(\"Número de Ocorrências\")\n",
        "plt.title(\"Contagem de respostas\")\n",
        "plt.xticks(rotation=90)\n",
        "plt.show()\n",
        "print(sorted_counts.keys())\n",
        "print(sorted_counts.values())"
      ]
    }
  ],
  "metadata": {
    "colab": {
      "provenance": []
    },
    "kernelspec": {
      "display_name": "Python 3",
      "name": "python3"
    },
    "language_info": {
      "codemirror_mode": {
        "name": "ipython",
        "version": 3
      },
      "file_extension": ".py",
      "mimetype": "text/x-python",
      "name": "python",
      "nbconvert_exporter": "python",
      "pygments_lexer": "ipython3",
      "version": "3.13.5"
    }
  },
  "nbformat": 4,
  "nbformat_minor": 0
}
