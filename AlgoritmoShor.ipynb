{
  "cells": [
    {
      "cell_type": "markdown",
      "metadata": {},
      "source": [
        "# Algoritmo de Shor - Implementação Quântica\n",
        "\n",
        "## Configuração do Ambiente\n",
        "\n",
        "Antes de executar este notebook, você precisa configurar suas variáveis de ambiente:\n",
        "\n",
        "1. **Copie o arquivo `.env.example` para `.env`:**\n",
        "   ```bash\n",
        "   cp .env.example .env\n",
        "   ```\n",
        "\n",
        "2. **Edite o arquivo `.env` e adicione seu token da IBM Quantum:**\n",
        "   ```\n",
        "   IBM_QUANTUM_TOKEN=seu_token_aqui\n",
        "   ```\n",
        "\n",
        "3. **Para obter seu token:**\n",
        "   - Acesse [IBM Quantum Platform](https://quantum.cloud.ibm.com/)\n",
        "   - Faça login ou crie uma conta\n",
        "   - Vá para sua conta e copie o token da API\n",
        "\n",
        "⚠️ **Importante:** \n",
        "- Nunca commite o arquivo `.env` no git. Ele já está incluído no `.gitignore`.\n",
        "- A partir de julho de 2025, use sempre a nova plataforma: `https://quantum.cloud.ibm.com/`"
      ]
    },
    {
      "cell_type": "markdown",
      "metadata": {},
      "source": [
        "## 🆕 Mudanças na Nova IBM Quantum Platform\n",
        "\n",
        "Este código foi atualizado para usar a **nova IBM Quantum Platform** (https://quantum.cloud.ibm.com/):\n",
        "\n",
        "### Principais Mudanças:\n",
        "- **Canal atualizado**: Agora usamos `channel=\"ibm_quantum_platform\"` ao invés de `channel=\"ibm_quantum\"`\n",
        "- **Nova URL**: A plataforma migrou de `quantum.ibm.com` para `quantum.cloud.ibm.com`\n",
        "- **Planos atualizados**: \n",
        "  - **Open Plan**: 10 minutos grátis de acesso a computadores quânticos a cada 28 dias\n",
        "  - **Standard Plan**: Pague apenas pelo uso real\n",
        "  - **Lite Plan**: Descontinuado (removido em março de 2025)\n",
        "\n",
        "### Benefícios da Nova Plataforma:\n",
        "- ✅ Melhor segurança e privacidade de dados\n",
        "- ✅ Interface otimizada para trabalhos quânticos\n",
        "- ✅ Melhor visibilidade e controle dos trabalhos\n",
        "- ✅ Acesso aos processadores IBM Quantum Heron\n",
        "\n",
        "### Compatibilidade:\n",
        "- A plataforma clássica será descontinuada em **1 de julho de 2025**\n",
        "- Jobs antigos não estarão disponíveis após essa data\n",
        "- Recomenda-se salvar dados importantes antes da migração"
      ]
    },
    {
      "cell_type": "code",
      "execution_count": null,
      "metadata": {
        "id": "ihIWmO0L440W"
      },
      "outputs": [],
      "source": [
        "%%capture\n",
        "!pip install qiskit qiskit_ibm_runtime qiskit-aer matplotlib python-dotenv"
      ]
    },
    {
      "cell_type": "code",
      "execution_count": null,
      "metadata": {
        "id": "1IvXoZRj5Jen"
      },
      "outputs": [],
      "source": [
        "import numpy as np\n",
        "import random\n",
        "import matplotlib.pyplot as plt\n",
        "from math import gcd, ceil, log2\n",
        "from fractions import Fraction\n",
        "from qiskit import QuantumRegister, ClassicalRegister, QuantumCircuit, transpile\n",
        "from qiskit.circuit.library import QFT\n",
        "from qiskit_ibm_runtime import QiskitRuntimeService, SamplerV2 as Sampler, Session\n",
        "from qiskit.visualization import plot_histogram\n",
        "import os\n",
        "from dotenv import load_dotenv\n",
        "\n",
        "# Carrego as variáveis de ambiente do arquivo .env\n",
        "load_dotenv()"
      ]
    },
    {
      "cell_type": "code",
      "execution_count": null,
      "metadata": {},
      "outputs": [],
      "source": [
        "# Configuração opcional: Se você tiver múltiplas instâncias, pode especificar uma:\n",
        "# Adicione IBM_QUANTUM_INSTANCE ao arquivo .env com o CRN ou nome da instância\n",
        "# Exemplo no .env: IBM_QUANTUM_INSTANCE=crn:v1:bluemix:public:quantum-computing:us-east:a/...\n",
        "#\n",
        "# instance = os.getenv('IBM_QUANTUM_INSTANCE')\n",
        "# service = QiskitRuntimeService(channel=\"ibm_quantum_platform\", token=token, instance=instance)"
      ]
    },
    {
      "cell_type": "code",
      "execution_count": null,
      "metadata": {
        "id": "0iEdmana5DZf"
      },
      "outputs": [],
      "source": [
        "N = 77\n",
        "n = ceil(log2(N))\n",
        "q = QuantumRegister(2*n, \"q\")\n",
        "t = QuantumRegister(n, \"t\")\n",
        "c = ClassicalRegister(2*n, \"c\")\n",
        "state = False\n",
        "max_tentativas = 20\n",
        "tentativas = 0"
      ]
    },
    {
      "cell_type": "code",
      "execution_count": null,
      "metadata": {
        "id": "ZkZXgAn85Tk_"
      },
      "outputs": [],
      "source": [
        "import os\n",
        "from qiskit_ibm_runtime import QiskitRuntimeService\n",
        "\n",
        "# backend = FakeKyiv()\n",
        "token = os.getenv('IBM_QUANTUM_TOKEN')\n",
        "if not token:\n",
        "    raise ValueError(\"Token da IBM Quantum não encontrado. Adicione IBM_QUANTUM_TOKEN ao seu arquivo .env\")\n",
        "\n",
        "service = QiskitRuntimeService(channel=\"ibm_quantum\", token=token)\n",
        "backend = service.least_busy(operational=True, simulator=False)\n",
        "if backend is None:\n",
        "  raise ValueError(\"Nenhum backend disponível. Verifique sua conexão com a IBM Quantum.\")\n",
        "else:\n",
        "  print(\"backend selecionado:\", backend)"
      ]
    },
    {
      "cell_type": "code",
      "execution_count": null,
      "metadata": {
        "id": "7N6upDk46TnN"
      },
      "outputs": [],
      "source": [
        "def Uf(a, circ):\n",
        "    \"\"\"\n",
        "    Uf: simula a operação de exponenciação modular controlada usada no algoritmo de Shor.\n",
        "    Para cada qubit de controle i, aplica uma rotação condicional de fase proporcional a a^(2^i) mod N.\n",
        "\n",
        "    Parâmetros:\n",
        "    - a: base da exponenciação modular (a^x mod N)\n",
        "    - circ: circuito quântico (QuantumCircuit) que contém os registradores q (controle) e t (target)\n",
        "\n",
        "    Notas:\n",
        "    - Este é um modelo simplificado que usa CP (Controlled-Phase) para representar o efeito\n",
        "      da unidade modular U_f: |x⟩|1⟩ → |x⟩|a^x mod N⟩ através de fases.\n",
        "    - A operação não é reversível no sentido estrito de Uf real, mas serve como aproximação para simulação.\n",
        "    \"\"\"\n",
        "\n",
        "    # Para cada qubit de controle i no registrador de fase (q), simulamos Uf aplicando uma rotação de fase controlada\n",
        "    for i in range(2 * n):\n",
        "        # Calcula a^(2^i) mod N, que representa a contribuição de cada bit de x no expoente\n",
        "        mod_exp = pow(a, 2**i, N)\n",
        "\n",
        "        # Aplica uma rotação de fase condicional (Controlled-Phase) proporcional ao resultado da mod_exp\n",
        "        # Isso simula o efeito da função a^x mod N em fase\n",
        "        circ.cp(2 * np.pi * mod_exp / N, q[i], t)"
      ]
    },
    {
      "cell_type": "code",
      "execution_count": null,
      "metadata": {
        "id": "jzzpoKR-6nBr"
      },
      "outputs": [],
      "source": [
        "def retrieve_denominator(measured_decimal, n, N):\n",
        "    \"\"\"\n",
        "    Estima o período r a partir da medição 'measured_decimal', onde:\n",
        "    - n: número de qubits de contagem\n",
        "    - N: número a ser fatorado (limite para denominador)\n",
        "\n",
        "    Retorna:\n",
        "    - O denominador da melhor fração contínua de x/2^n com denominador ≤ N\n",
        "    \"\"\"\n",
        "    phase = measured_decimal / (2 ** n)\n",
        "    frac = Fraction(phase).limit_denominator(N)\n",
        "    return frac.denominator"
      ]
    },
    {
      "cell_type": "code",
      "execution_count": null,
      "metadata": {
        "id": "-58vbywn6A0J"
      },
      "outputs": [],
      "source": [
        "def etapa_2_verificacao_preliminar(N, limites_primos=[2, 3, 5, 7, 11, 13, 17, 19]):\n",
        "    \"\"\"\n",
        "    Etapa 2 do algoritmo de Shor: verificação clássica de fatores triviais.\n",
        "\n",
        "    Parâmetro:\n",
        "    - N: número inteiro composto a ser fatorado\n",
        "    - limites_primos: primos pequenos para tentativa de divisão\n",
        "\n",
        "    Retorna:\n",
        "    - (True, fatores) se algum fator trivial for encontrado\n",
        "    - (False, None) se não houver fatoração trivial\n",
        "    \"\"\"\n",
        "    if N % 2 == 0:\n",
        "        return True, (2, N // 2)\n",
        "\n",
        "    for p in limites_primos:\n",
        "        if N % p == 0:\n",
        "            return True, (p, N // p)\n",
        "\n",
        "    return False, None"
      ]
    },
    {
      "cell_type": "code",
      "execution_count": null,
      "metadata": {
        "id": "-UgafEFJ6xae"
      },
      "outputs": [],
      "source": [
        "def etapa3(N):\n",
        "    \"\"\"\n",
        "    Etapa 3 do algoritmo de Shor: escolha aleatória de um número 'a'\n",
        "    tal que 1 < a < N e gcd(a, N) = 1.\n",
        "\n",
        "    Parâmetro:\n",
        "    - N: número inteiro composto a ser fatorado\n",
        "\n",
        "    Retorna:\n",
        "    - a: base escolhida para uso na etapa quântica do algoritmo (a^x mod N)\n",
        "    \"\"\"\n",
        "\n",
        "    # Sorteia um número a entre 2 e N-1\n",
        "    a = random.randint(2, N - 1)\n",
        "\n",
        "    # Repete enquanto a não for coprimo de N (ou seja, enquanto gcd(a, N) > 1)\n",
        "    # Se gcd(a, N) > 1, então já é possível retornar um fator de N\n",
        "    while gcd(a, N) > 1:\n",
        "        a = random.randint(2, N - 1)\n",
        "\n",
        "    # Exibe a base escolhida (útil para depuração)\n",
        "    print(f\"\\n🎲 Tentativa {tentativas}: base escolhida a = {a}\")\n",
        "\n",
        "    # Retorna o valor de a para as próximas etapas\n",
        "    return a\n",
        "# a = etapa3(N)"
      ]
    },
    {
      "cell_type": "code",
      "execution_count": null,
      "metadata": {
        "id": "a9p2VCj_7FYN"
      },
      "outputs": [],
      "source": [
        "def etapa4(q, t, c, n, backend, a):\n",
        "    \"\"\"\n",
        "    Etapa 4 do algoritmo de Shor: cálculo do período r via estimativa de fase quântica (QPE).\n",
        "    Utiliza a função f(x) = a^x mod N codificada como Uf.\n",
        "\n",
        "    Parâmetros:\n",
        "    - q: registrador de contagem (QuantumRegister com 2n qubits)\n",
        "    - t: registrador alvo (QuantumRegister com 1 qubit)\n",
        "    - c: registrador clássico (ClassicalRegister com 2n bits)\n",
        "    - n: número de qubits necessários para representar N (n = ceil(log2(N)))\n",
        "    - backend: backend de execução (ex: Aer simulator)\n",
        "    - a: base usada na exponenciação modular (a^x mod N)\n",
        "\n",
        "    Retorna:\n",
        "    - sorted_measurements: lista ordenada de medições decrescentes [(bitstring, contagem)]\n",
        "    \"\"\"\n",
        "\n",
        "    # Cria circuito com registradores de contagem, alvo e medição\n",
        "    circuito = QuantumCircuit(q, t, c)\n",
        "\n",
        "    # Inicializa o registrador alvo (target) no estado |1⟩\n",
        "    circuito.x(t)\n",
        "\n",
        "    # Barreira para separar visualmente preparação da QPE\n",
        "    circuito.barrier()\n",
        "\n",
        "    # Aplica Hadamard nos qubits de contagem para criar superposição uniforme\n",
        "    circuito.h(q)\n",
        "\n",
        "    # Aplica a operação modular controlada Uf(a)\n",
        "    # Esta operação representa a função f(x) = a^x mod N\n",
        "    # Deve ser definida externamente e adicionada como circuito reversível\n",
        "    Uf(a, circuito)\n",
        "\n",
        "    # Aplica a transformada quântica de Fourier inversa (QFT†) nos qubits de contagem\n",
        "    circuito.append(QFT(2 * n, inverse=True), q)\n",
        "\n",
        "    # Mede os qubits de contagem no registrador clássico\n",
        "    circuito.measure(q, c)\n",
        "\n",
        "    # Transpila o circuito para o backend alvo\n",
        "    transpiled = transpile(circuito, backend)\n",
        "\n",
        "\n",
        "    # Executa o circuito no backend com 1024 shots\n",
        "    sampler = Sampler(backend)\n",
        "    job = sampler.run([transpiled])\n",
        "    pub_result = job.result()[0]\n",
        "\n",
        "    # Obtém os resultados de medição\n",
        "    counts = pub_result.data.c.get_counts()\n",
        "    plot_histogram(counts)\n",
        "\n",
        "    # Ordena os resultados por frequência (do mais frequente ao menos)\n",
        "    sorted_measurements = sorted(counts.items(), key=lambda x: x[1], reverse=True)\n",
        "\n",
        "    # Retorna os resultados ordenados\n",
        "    return sorted_measurements\n",
        "# sorted_measurements = etapa4(q, t, c, n, backend)"
      ]
    },
    {
      "cell_type": "code",
      "execution_count": null,
      "metadata": {
        "id": "IDT9WI2s7xBI"
      },
      "outputs": [],
      "source": [
        "def etapa5(x, N):\n",
        "    \"\"\"\n",
        "    Etapa 5 do algoritmo de Shor: verificação do valor do período r estimado.\n",
        "\n",
        "    A ideia é verificar se a^(r/2) mod N resulta em um valor que torna impossível extrair os fatores.\n",
        "    Isso acontece quando:\n",
        "        - a^(r/2) ≡ 1 mod N, ou\n",
        "        - a^(r/2) ≡ -1 mod N\n",
        "\n",
        "    Parâmetros:\n",
        "    - x: valor de a^(r/2) mod N\n",
        "    - N: número que está sendo fatorado\n",
        "\n",
        "    Retorna:\n",
        "    - True se o período é inválido (isto é, x ≡ ±1 mod N)\n",
        "    - None (implícito) se o período pode ser útil (não é tratado aqui, apenas detecta casos inválidos)\n",
        "    \"\"\"\n",
        "\n",
        "    # Se a^(r/2) ≡ 1 ou ≡ -1 (mod N), o período r não é útil\n",
        "    if x == 1 or x == N - 1:\n",
        "        return True  # indica que o período falha a verificação\n",
        "# if etapa5(x, N) == True:\n",
        "#   continue"
      ]
    },
    {
      "cell_type": "code",
      "execution_count": null,
      "metadata": {
        "id": "Fax7PvfX8EDf"
      },
      "outputs": [],
      "source": [
        "def etapa6(x, N):\n",
        "    \"\"\"\n",
        "    Etapa 6 do algoritmo de Shor: cálculo dos fatores não triviais de N.\n",
        "\n",
        "    Após encontrar um período r válido, calcula-se:\n",
        "        x = a^(r/2) mod N\n",
        "    Em seguida, utiliza-se:\n",
        "        p = gcd(x - 1, N)\n",
        "        q = gcd(x + 1, N)\n",
        "\n",
        "    Parâmetros:\n",
        "    - x: valor de a^(r/2) mod N (deve ter passado pela verificação da etapa 5)\n",
        "    - N: número inteiro composto a ser fatorado\n",
        "\n",
        "    Retorna:\n",
        "    - (p, q): tupla contendo os fatores candidatos de N\n",
        "    \"\"\"\n",
        "\n",
        "    # Calcula o mdc entre (x - 1) e N → possível fator de N\n",
        "    p = gcd(x - 1, N)\n",
        "\n",
        "    # Calcula o mdc entre (x + 1) e N → outro possível fator de N\n",
        "    q_ = gcd(x + 1, N)\n",
        "\n",
        "    # Retorna ambos os fatores candidatos\n",
        "    return p, q_\n",
        "# p, q_ = etapa6(x, N)"
      ]
    },
    {
      "cell_type": "code",
      "execution_count": null,
      "metadata": {
        "id": "2h6H6euC8XHA"
      },
      "outputs": [],
      "source": [
        "if etapa_2_verificacao_preliminar(N, limites_primos = [2, 3, 5, 7, 11, 13, 17, 19, 23, 29, 31, 37, 41,\n",
        "                      43, 47, 53, 59, 61, 67, 71, 73, 79, 83, 89, 97])[0]:\n",
        "    print(f\"\\n🎯 Resultado do Algoritmo de Shor:{N}\\n\" + \"-\"*40)\n",
        "    while not state and tentativas < max_tentativas:\n",
        "        tentativas += 1\n",
        "\n",
        "        # Etapa 3 – escolha aleatória de a tal que gcd(a, N) = 1\n",
        "        a = etapa3(N)\n",
        "\n",
        "        # Etapa 4 – preparar circuito QPE\n",
        "        sorted_measurements = etapa4(q, t, c, n, backend, a)\n",
        "\n",
        "        # Etapas 5 e 6 – Verificação do período e cálculo dos fatores\n",
        "        for measurement, _ in sorted_measurements:\n",
        "            decimal_value = int(measurement, 2)\n",
        "            r = retrieve_denominator(decimal_value, n, N)\n",
        "\n",
        "            if r % 2 == 0:\n",
        "                x = pow(a, r // 2, N)\n",
        "\n",
        "                # Etapa 5: ignorar se x ≡ ±1 mod N\n",
        "                if etapa5(x, N) == True:\n",
        "                  continue\n",
        "\n",
        "                # Etapa 6: cálculo dos fatores\n",
        "                p, q_ = etapa6(x, N)\n",
        "\n",
        "                if 1 < p < N and 1 < q_ < N and p * q_ == N:\n",
        "                    print(f\"✅ Fatores encontrados: {p}, {q_}\")\n",
        "                    state = True\n",
        "                    break"
      ]
    }
  ],
  "metadata": {
    "colab": {
      "provenance": []
    },
    "kernelspec": {
      "display_name": "Python 3",
      "name": "python3"
    },
    "language_info": {
      "codemirror_mode": {
        "name": "ipython",
        "version": 3
      },
      "file_extension": ".py",
      "mimetype": "text/x-python",
      "name": "python",
      "nbconvert_exporter": "python",
      "pygments_lexer": "ipython3",
      "version": "3.13.5"
    }
  },
  "nbformat": 4,
  "nbformat_minor": 0
}
